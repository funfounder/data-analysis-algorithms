{
 "cells": [
  {
   "cell_type": "code",
   "execution_count": 2,
   "id": "b7376da7",
   "metadata": {},
   "outputs": [],
   "source": [
    "import numpy as np\n",
    "import matplotlib.pyplot as plt\n",
    "from mpl_toolkits.mplot3d.axes3d import Axes3D"
   ]
  },
  {
   "cell_type": "markdown",
   "id": "bd5b24dc",
   "metadata": {},
   "source": [
    "__Задание 1__\n",
    "\n",
    "Подберите скорость обучения (eta) и количество итераций"
   ]
  },
  {
   "cell_type": "code",
   "execution_count": 3,
   "id": "35b3b861",
   "metadata": {},
   "outputs": [],
   "source": [
    "X = np.array([[ 1,  1],\n",
    "              [ 1,  1],\n",
    "              [ 1,  2],\n",
    "              [ 1,  5],\n",
    "              [ 1,  3],\n",
    "              [ 1,  0],\n",
    "              [ 1,  5],\n",
    "              [ 1, 10],\n",
    "              [ 1,  1],\n",
    "              [ 1,  2]])\n",
    "\n",
    "y = [45, 55, 50, 55, 60, 35, 75, 80, 50, 60]"
   ]
  },
  {
   "cell_type": "code",
   "execution_count": 5,
   "id": "f2ef75a1",
   "metadata": {},
   "outputs": [],
   "source": [
    "def calc_mae(y, y_pred):\n",
    "    err = np.mean(np.abs(y - y_pred))\n",
    "    return err\n",
    "\n",
    "def calc_mse(y, y_pred):\n",
    "    err = np.mean((y - y_pred)**2)\n",
    "    return err"
   ]
  },
  {
   "cell_type": "code",
   "execution_count": 164,
   "id": "9343e671",
   "metadata": {
    "scrolled": true
   },
   "outputs": [
    {
     "name": "stdout",
     "output_type": "stream",
     "text": [
      "Number of objects = 10        \n",
      "Learning rate = 0.069        \n",
      "Initial weights = [1.  0.5] \n",
      "\n",
      "Iteration #0: W_new = [ 8.452 26.513], MSE = 3047.75\n",
      "Iteration #100: W_new = [2.53291161e+08 1.39681639e+09], MSE = 2.4512647281846215e+19\n",
      "Iteration #200: W_new = [2.76756523e+08 1.52622007e+09], MSE = 4.2135124424778465e+19\n",
      "Iteration #300: W_new = [45.65111081  7.05851661], MSE = 328.6285\n",
      "Iteration #400: W_new = [45.06249995  3.81250001], MSE = 43.9688\n",
      "Iteration #499: W_new = [45.0625  3.8125], MSE = 43.9688\n"
     ]
    }
   ],
   "source": [
    "n = X.shape[0]\n",
    "\n",
    "eta = 0.069\n",
    "n_iter = 500\n",
    "\n",
    "W = np.array([1, 0.5])\n",
    "print(f'Number of objects = {n} \\\n",
    "       \\nLearning rate = {eta} \\\n",
    "       \\nInitial weights = {W} \\n')\n",
    "\n",
    "for i in range(n_iter):\n",
    "    y_pred = np.dot(X, W)\n",
    "    err = calc_mse(y, y_pred)\n",
    "    for k in range(W.shape[0]):\n",
    "        W[k] -= eta * (1/n * 2 * X[:, k] @ (y_pred - y))\n",
    "    if i % 100 == 0:\n",
    "        eta /= 1.1\n",
    "        print(f'Iteration #{i}: W_new = {W}, MSE = {round(err, 4)}')\n",
    "    elif i + 1 == n_iter:\n",
    "        print(f'Iteration #{i}: W_new = {W}, MSE = {round(err, 4)}')"
   ]
  },
  {
   "cell_type": "code",
   "execution_count": 186,
   "id": "b86f8efb",
   "metadata": {},
   "outputs": [
    {
     "data": {
      "text/plain": [
       "-1885.0"
      ]
     },
     "execution_count": 186,
     "metadata": {},
     "output_type": "execute_result"
    }
   ],
   "source": [
    "np.dot(X[:, k], y_pred - y)"
   ]
  },
  {
   "cell_type": "markdown",
   "id": "842fe14d",
   "metadata": {},
   "source": [
    "__Ответ__: eta = 0.069, n_iter = 500\n",
    "\n",
    "Вопрос: а почему мы на 2 здесь умножаем? \n",
    "W[k] -= eta * (1/n * 2 * X[:, k] @ (y_pred - y))"
   ]
  },
  {
   "cell_type": "markdown",
   "id": "7a4e6aea",
   "metadata": {},
   "source": [
    "__Задание 2*__\n",
    "\n",
    "В этом коде мы избавляемся от итераций по весам, но тут есть ошибка, исправьте ее"
   ]
  },
  {
   "cell_type": "code",
   "execution_count": 202,
   "id": "f5698b61",
   "metadata": {
    "scrolled": true
   },
   "outputs": [
    {
     "name": "stdout",
     "output_type": "stream",
     "text": [
      "Number of objects = 10        \n",
      "Learning rate = 0.069        \n",
      "Initial weights = [1.  0.5] \n",
      "\n",
      "Iteration #0: W_new = [ 8.452 26.513], MSE = 3047.75\n",
      "Iteration #100: W_new = [2.53291161e+08 1.39681639e+09], MSE = 2.4512647281846665e+19\n",
      "Iteration #200: W_new = [2.76756523e+08 1.52622007e+09], MSE = 4.213512442478011e+19\n",
      "Iteration #300: W_new = [45.65111081  7.05851661], MSE = 328.6285\n",
      "Iteration #400: W_new = [45.06249995  3.81250001], MSE = 43.9688\n",
      "Iteration #499: W_new = [45.0625  3.8125], MSE = 43.9688\n"
     ]
    }
   ],
   "source": [
    "n = X.shape[0]\n",
    "\n",
    "eta = 0.069\n",
    "n_iter = 500\n",
    "\n",
    "W = np.array([1, 0.5])\n",
    "print(f'Number of objects = {n} \\\n",
    "       \\nLearning rate = {eta} \\\n",
    "       \\nInitial weights = {W} \\n')\n",
    "\n",
    "for i in range(n_iter):\n",
    "    y_pred = np.dot(X, W)\n",
    "    err = calc_mse(y, y_pred)\n",
    "    # Так было\n",
    "    # W -= eta * (1/n * 2 * np.dot(X, y_pred - y))\n",
    "    # Так предлагаю. Хватило фантазии только на хард код. Пробовал идеи с map, но кажется  \n",
    "    # не хватает понимания именно построить lambda\n",
    "    W -= [eta * (1/n * 2 * np.dot(X[:, 0], y_pred - y)), eta * (1/n * 2 * np.dot(X[:, 1], y_pred - y))]\n",
    "    if i % 100 == 0:\n",
    "        eta /= 1.1\n",
    "        print(f'Iteration #{i}: W_new = {W}, MSE = {round(err, 4)}')\n",
    "    elif i + 1 == n_iter:\n",
    "        print(f'Iteration #{i}: W_new = {W}, MSE = {round(err, 4)}')"
   ]
  },
  {
   "cell_type": "markdown",
   "id": "0d40a582",
   "metadata": {},
   "source": [
    "__Задание 3*__\n",
    "\n",
    "Вместо того, чтобы задавать количество итераций, задайте другое условие останова алгоритма - когда веса перестают изменяться меньше определенного порога  𝜖 ."
   ]
  },
  {
   "cell_type": "code",
   "execution_count": 212,
   "id": "563e034d",
   "metadata": {},
   "outputs": [
    {
     "name": "stdout",
     "output_type": "stream",
     "text": [
      "Number of objects = 10        \n",
      "Learning rate = 0.069        \n",
      "Initial weights = [1.  0.5] \n",
      "\n",
      "Iteration #10: W_new = [ -43.55063132 -359.73008892], MSE = 1212361.0645\n",
      "Iteration #20: W_new = [-148.79154981 -993.94846473], MSE = 14834211.3607\n",
      "Iteration #30: W_new = [   9.0093142  -151.23234213], MSE = 642763.2764\n",
      "Iteration #40: W_new = [39.87598551  3.90021385], MSE = 92.2297\n",
      "Iteration #50: W_new = [41.57092887  4.44558274], MSE = 50.1472\n",
      "Iteration #60: W_new = [42.52167363  4.27323969], MSE = 47.2089\n",
      "Iteration #70: W_new = [43.13414494  4.16217746], MSE = 45.8195\n",
      "Iteration #80: W_new = [43.54470826  4.08772813], MSE = 45.107\n",
      "Iteration #90: W_new = [43.82956181  4.03607433], MSE = 44.7151\n",
      "Iteration #100: W_new = [44.03317661  3.99915193], MSE = 44.4861\n",
      "Iteration #110: W_new = [44.18253035  3.97206893], MSE = 44.3451\n",
      "Iteration #120: W_new = [44.29456432  3.9517533 ], MSE = 44.2542\n",
      "Iteration #130: W_new = [44.38025225  3.93621511], MSE = 44.1932\n",
      "Iteration #140: W_new = [44.44690363  3.92412891], MSE = 44.1509\n",
      "Iteration #150: W_new = [44.49951155  3.91458928], MSE = 44.1207\n",
      "Iteration #160: W_new = [44.5415656   3.90696342], MSE = 44.0986\n",
      "Iteration #170: W_new = [44.57555573  3.90079984], MSE = 44.0819\n",
      "Iteration #180: W_new = [44.60329252  3.8957702 ], MSE = 44.0692\n",
      "Iteration #190: W_new = [44.62611548  3.8916316 ], MSE = 44.0594\n",
      "Iteration #200: W_new = [44.64503131  3.88820151], MSE = 44.0516\n",
      "Iteration #210: W_new = [44.66080762  3.88534072], MSE = 44.0453\n",
      "Iteration #220: W_new = [44.67403746  3.88294169], MSE = 44.0403\n",
      "Iteration #230: W_new = [44.68518456  3.88092034], MSE = 44.0362\n",
      "Iteration #240: W_new = [44.69461559  3.87921017], MSE = 44.0328\n",
      "Iteration #250: W_new = [44.70262336  3.87775808], MSE = 44.03\n",
      "Iteration #260: W_new = [44.70944384  3.87652129], MSE = 44.0277\n",
      "Iteration #270: W_new = [44.71526881  3.87546502], MSE = 44.0257\n",
      "Iteration #280: W_new = [44.7202553  3.8745608], MSE = 44.0241\n",
      "Iteration #290: W_new = [44.72453272  3.87378516], MSE = 44.0227\n",
      "Iteration #300: W_new = [44.72820844  3.87311862], MSE = 44.0215\n",
      "Iteration #310: W_new = [44.73137199  3.87254496], MSE = 44.0205\n",
      "Iteration #320: W_new = [44.73409838  3.87205057], MSE = 44.0196\n",
      "Iteration #330: W_new = [44.73645078  3.871624  ], MSE = 44.0189\n",
      "Iteration #340: W_new = [44.73848255  3.87125557], MSE = 44.0183\n",
      "Iteration #350: W_new = [44.74023893  3.87093708], MSE = 44.0177\n",
      "Iteration #360: W_new = [44.74175843  3.87066154], MSE = 44.0172\n",
      "Iteration #370: W_new = [44.74307387  3.870423  ], MSE = 44.0168\n",
      "Iteration #380: W_new = [44.74421331  3.87021638], MSE = 44.0165\n",
      "Iteration #390: W_new = [44.74520081  3.87003732], MSE = 44.0162\n",
      "Iteration #400: W_new = [44.74605699  3.86988206], MSE = 44.0159\n",
      "Iteration #410: W_new = [44.7467996  3.8697474], MSE = 44.0157\n",
      "Iteration #420: W_new = [44.74744393  3.86963056], MSE = 44.0155\n",
      "Iteration #430: W_new = [44.74800313  3.86952916], MSE = 44.0154\n",
      "Iteration #440: W_new = [44.74848859  3.86944113], MSE = 44.0152\n",
      "Iteration #450: W_new = [44.74891011  3.86936469], MSE = 44.0151\n",
      "Iteration #460: W_new = [44.74927618  3.86929831], MSE = 44.015\n",
      "Iteration #470: W_new = [44.74959416  3.86924065], MSE = 44.0149\n",
      "Iteration #480: W_new = [44.7498704   3.86919056], MSE = 44.0148\n",
      "Iteration #490: W_new = [44.75011041  3.86914704], MSE = 44.0147\n",
      "Iteration #500: W_new = [44.75031896  3.86910922], MSE = 44.0147\n",
      "Iteration #510: W_new = [44.75050019  3.86907635], MSE = 44.0146\n",
      "Iteration #520: W_new = [44.7506577   3.86904779], MSE = 44.0146\n",
      "Iteration #530: W_new = [44.7507946   3.86902297], MSE = 44.0145\n",
      "Iteration #540: W_new = [44.75091359  3.86900139], MSE = 44.0145\n",
      "Iteration #550: W_new = [44.75101703  3.86898263], MSE = 44.0144\n",
      "Iteration #560: W_new = [44.75110695  3.86896633], MSE = 44.0144\n",
      "Iteration #570: W_new = [44.75118511  3.86895216], MSE = 44.0144\n",
      "Iteration #580: W_new = [44.75125307  3.86893983], MSE = 44.0144\n",
      "Iteration #590: W_new = [44.75131215  3.86892912], MSE = 44.0144\n",
      "Iteration #600: W_new = [44.75136351  3.86891981], MSE = 44.0143\n",
      "Iteration #610: W_new = [44.75140817  3.86891171], MSE = 44.0143\n",
      "Iteration #620: W_new = [44.75144699  3.86890467], MSE = 44.0143\n",
      "Iteration #630: W_new = [44.75148075  3.86889855], MSE = 44.0143\n",
      "Iteration #640: W_new = [44.75151011  3.86889322], MSE = 44.0143\n",
      "Iteration #650: W_new = [44.75153563  3.86888859], MSE = 44.0143\n",
      "Iteration #660: W_new = [44.75155782  3.86888457], MSE = 44.0143\n",
      "Iteration #670: W_new = [44.75157711  3.86888107], MSE = 44.0143\n",
      "Iteration #680: W_new = [44.75159389  3.86887803], MSE = 44.0143\n",
      "Iteration #690: W_new = [44.75160848  3.86887538], MSE = 44.0143\n",
      "Iteration #700: W_new = [44.75162116  3.86887308], MSE = 44.0143\n",
      "Iteration #710: W_new = [44.75163219  3.86887108], MSE = 44.0143\n",
      "Iteration #711: W_new = [44.75163315  3.86887091], MSE = 44.0143\n"
     ]
    }
   ],
   "source": [
    "n = X.shape[0]\n",
    "\n",
    "eta = 0.069\n",
    "max_iter = 1000\n",
    "\n",
    "W = np.array([1, 0.5])\n",
    "\n",
    "W_dist = np.inf\n",
    "\n",
    "W_target_dist = 1e-6\n",
    "\n",
    "iter_num = 0\n",
    "\n",
    "print(f'Number of objects = {n} \\\n",
    "       \\nLearning rate = {eta} \\\n",
    "       \\nInitial weights = {W} \\n')\n",
    "\n",
    "while W_dist > W_target_dist and iter_num < max_iter:\n",
    "    y_pred = np.dot(X, W)\n",
    "    W_new = W - [eta * (1/n * 2 * np.dot(X[:, 0], y_pred - y)), eta * (1/n * 2 * np.dot(X[:, 1], y_pred - y))]\n",
    "    W_dist = np.linalg.norm(W_new - W , ord=2)\n",
    "    err = calc_mse(y, y_pred)\n",
    "    iter_num += 1\n",
    "    W = W_new\n",
    "    if iter_num % 10 == 0:\n",
    "        eta /= 1.15\n",
    "        print(f'Iteration #{iter_num}: W_new = {W}, MSE = {round(err, 4)}')\n",
    "        \n",
    "print(f'Iteration #{iter_num}: W_new = {W}, MSE = {round(err, 4)}')"
   ]
  },
  {
   "cell_type": "code",
   "execution_count": null,
   "id": "74dabbd7",
   "metadata": {},
   "outputs": [],
   "source": []
  }
 ],
 "metadata": {
  "kernelspec": {
   "display_name": "Python 3",
   "language": "python",
   "name": "python3"
  },
  "language_info": {
   "codemirror_mode": {
    "name": "ipython",
    "version": 3
   },
   "file_extension": ".py",
   "mimetype": "text/x-python",
   "name": "python",
   "nbconvert_exporter": "python",
   "pygments_lexer": "ipython3",
   "version": "3.8.8"
  }
 },
 "nbformat": 4,
 "nbformat_minor": 5
}
