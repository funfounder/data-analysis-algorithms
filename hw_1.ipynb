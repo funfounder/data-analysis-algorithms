{
 "cells": [
  {
   "cell_type": "code",
   "execution_count": 1,
   "id": "b7376da7",
   "metadata": {},
   "outputs": [],
   "source": [
    "import numpy as np\n",
    "import matplotlib.pyplot as plt\n",
    "from mpl_toolkits.mplot3d.axes3d import Axes3D"
   ]
  },
  {
   "cell_type": "markdown",
   "id": "bd5b24dc",
   "metadata": {},
   "source": [
    "__Задание 1__\n",
    "\n",
    "Подберите скорость обучения (eta) и количество итераций"
   ]
  },
  {
   "cell_type": "code",
   "execution_count": 2,
   "id": "35b3b861",
   "metadata": {},
   "outputs": [],
   "source": [
    "X = np.array([[ 1,  1],\n",
    "              [ 1,  1],\n",
    "              [ 1,  2],\n",
    "              [ 1,  5],\n",
    "              [ 1,  3],\n",
    "              [ 1,  0],\n",
    "              [ 1,  5],\n",
    "              [ 1, 10],\n",
    "              [ 1,  1],\n",
    "              [ 1,  2]])\n",
    "\n",
    "y = [45, 55, 50, 55, 60, 35, 75, 80, 50, 60]"
   ]
  },
  {
   "cell_type": "code",
   "execution_count": 3,
   "id": "f2ef75a1",
   "metadata": {},
   "outputs": [],
   "source": [
    "def calc_mae(y, y_pred):\n",
    "    err = np.mean(np.abs(y - y_pred))\n",
    "    return err\n",
    "\n",
    "def calc_mse(y, y_pred):\n",
    "    err = np.mean((y - y_pred)**2)\n",
    "    return err"
   ]
  },
  {
   "cell_type": "code",
   "execution_count": 4,
   "id": "9343e671",
   "metadata": {
    "scrolled": true
   },
   "outputs": [
    {
     "name": "stdout",
     "output_type": "stream",
     "text": [
      "Number of objects = 10        \n",
      "Learning rate = 0.069        \n",
      "Initial weights = [1.  0.5] \n",
      "\n",
      "Iteration #0: W_new = [ 8.452 26.513], MSE = 3047.75\n",
      "Iteration #100: W_new = [2.53291161e+08 1.39681639e+09], MSE = 2.4512647281846215e+19\n",
      "Iteration #200: W_new = [2.76756523e+08 1.52622007e+09], MSE = 4.2135124424778465e+19\n",
      "Iteration #300: W_new = [45.65111081  7.05851661], MSE = 328.6285\n",
      "Iteration #400: W_new = [45.06249995  3.81250001], MSE = 43.9688\n",
      "Iteration #499: W_new = [45.0625  3.8125], MSE = 43.9688\n"
     ]
    }
   ],
   "source": [
    "n = X.shape[0]\n",
    "\n",
    "eta = 0.069\n",
    "n_iter = 500\n",
    "\n",
    "W = np.array([1, 0.5])\n",
    "print(f'Number of objects = {n} \\\n",
    "       \\nLearning rate = {eta} \\\n",
    "       \\nInitial weights = {W} \\n')\n",
    "\n",
    "for i in range(n_iter):\n",
    "    y_pred = np.dot(X, W)\n",
    "    err = calc_mse(y, y_pred)\n",
    "    for k in range(W.shape[0]):\n",
    "        W[k] -= eta * (1/n * 2 * X[:, k] @ (y_pred - y))\n",
    "    if i % 100 == 0:\n",
    "        eta /= 1.1\n",
    "        print(f'Iteration #{i}: W_new = {W}, MSE = {round(err, 4)}')\n",
    "    elif i + 1 == n_iter:\n",
    "        print(f'Iteration #{i}: W_new = {W}, MSE = {round(err, 4)}')"
   ]
  },
  {
   "cell_type": "code",
   "execution_count": 5,
   "id": "b86f8efb",
   "metadata": {},
   "outputs": [
    {
     "data": {
      "text/plain": [
       "8.469882573081122e-10"
      ]
     },
     "execution_count": 5,
     "metadata": {},
     "output_type": "execute_result"
    }
   ],
   "source": [
    "np.dot(X[:, k], y_pred - y)"
   ]
  },
  {
   "cell_type": "markdown",
   "id": "842fe14d",
   "metadata": {},
   "source": [
    "__Ответ__: eta = 0.069, n_iter = 500\n",
    "\n",
    "Вопрос: а почему мы на 2 здесь умножаем? \n",
    "W[k] -= eta * (1/n * 2 * X[:, k] @ (y_pred - y))"
   ]
  },
  {
   "cell_type": "markdown",
   "id": "7a4e6aea",
   "metadata": {},
   "source": [
    "__Задание 2*__\n",
    "\n",
    "В этом коде мы избавляемся от итераций по весам, но тут есть ошибка, исправьте ее"
   ]
  },
  {
   "cell_type": "code",
   "execution_count": 6,
   "id": "f5698b61",
   "metadata": {
    "scrolled": true
   },
   "outputs": [
    {
     "name": "stdout",
     "output_type": "stream",
     "text": [
      "Number of objects = 10        \n",
      "Learning rate = 0.069        \n",
      "Initial weights = [1.  0.5] \n",
      "\n",
      "Iteration #0: W_new = [ 8.452 26.513], MSE = 3047.75\n",
      "Iteration #100: W_new = [2.53291161e+08 1.39681639e+09], MSE = 2.4512647281846645e+19\n",
      "Iteration #200: W_new = [2.76756523e+08 1.52622007e+09], MSE = 4.213512442478004e+19\n",
      "Iteration #300: W_new = [45.65111081  7.05851661], MSE = 328.6285\n",
      "Iteration #400: W_new = [45.06249995  3.81250001], MSE = 43.9688\n",
      "Iteration #499: W_new = [45.0625  3.8125], MSE = 43.9688\n"
     ]
    }
   ],
   "source": [
    "n = X.shape[0]\n",
    "\n",
    "eta = 0.069\n",
    "n_iter = 500\n",
    "\n",
    "W = np.array([1, 0.5])\n",
    "print(f'Number of objects = {n} \\\n",
    "       \\nLearning rate = {eta} \\\n",
    "       \\nInitial weights = {W} \\n')\n",
    "\n",
    "for i in range(n_iter):\n",
    "    y_pred = np.dot(X, W)\n",
    "    err = calc_mse(y, y_pred)\n",
    "    # Так было\n",
    "    # W -= eta * (1/n * 2 * np.dot(X, y_pred - y))\n",
    "    # Так предлагаю. Хватило фантазии только на хард код. Пробовал идеи с map, но кажется  \n",
    "    # не хватает понимания именно построить lambda\n",
    "    # W -= [eta * (1/n * 2 * np.dot(X[:, 0], y_pred - y)), eta * (1/n * 2 * np.dot(X[:, 1], y_pred - y))]\n",
    "    \n",
    "    # можно просто транспонировать\n",
    "    W -= eta * (1/n * 2 * np.dot(X.T, y_pred - y))\n",
    "    if i % 100 == 0:\n",
    "        eta /= 1.1\n",
    "        print(f'Iteration #{i}: W_new = {W}, MSE = {round(err, 4)}')\n",
    "    elif i + 1 == n_iter:\n",
    "        print(f'Iteration #{i}: W_new = {W}, MSE = {round(err, 4)}')"
   ]
  },
  {
   "cell_type": "markdown",
   "id": "0d40a582",
   "metadata": {},
   "source": [
    "__Задание 3*__\n",
    "\n",
    "Вместо того, чтобы задавать количество итераций, задайте другое условие останова алгоритма - когда веса перестают изменяться меньше определенного порога  𝜖 ."
   ]
  },
  {
   "cell_type": "code",
   "execution_count": 8,
   "id": "563e034d",
   "metadata": {},
   "outputs": [
    {
     "name": "stdout",
     "output_type": "stream",
     "text": [
      "Number of objects = 10        \n",
      "Learning rate = 0.069        \n",
      "Initial weights = [1.  0.5] \n",
      "\n",
      "Iteration #100: W_new = [-3.62435307e+15 -1.99871036e+16], MSE = 3.5846500344409684e+33\n",
      "Iteration #200: W_new = [-8.06267794e+19 -4.44629914e+20], MSE = 2.932458646440413e+42\n",
      "Iteration #300: W_new = [-7.07594165e+11 -3.90214684e+12], MSE = 3.998716690613482e+26\n",
      "Iteration #400: W_new = [47.98428896  3.28267862], MSE = 48.3441\n",
      "Iteration #500: W_new = [45.13736841  3.79892377], MSE = 43.9716\n",
      "Iteration #600: W_new = [45.06561783  3.81193463], MSE = 43.9688\n",
      "Iteration #700: W_new = [45.06269768  3.81246415], MSE = 43.9688\n",
      "Iteration #767: W_new = [45.06253975  3.81249279], MSE = 43.9688\n"
     ]
    }
   ],
   "source": [
    "n = X.shape[0]\n",
    "\n",
    "eta = 0.069\n",
    "max_iter = 1000\n",
    "\n",
    "W = np.array([1, 0.5])\n",
    "\n",
    "W_dist = np.inf\n",
    "\n",
    "W_target_dist = 1e-6\n",
    "\n",
    "iter_num = 0\n",
    "\n",
    "print(f'Number of objects = {n} \\\n",
    "       \\nLearning rate = {eta} \\\n",
    "       \\nInitial weights = {W} \\n')\n",
    "\n",
    "while W_dist > W_target_dist and iter_num < max_iter:\n",
    "    y_pred = np.dot(X, W)\n",
    "    W_new = W - [eta * (1/n * 2 * np.dot(X[:, 0], y_pred - y)), eta * (1/n * 2 * np.dot(X[:, 1], y_pred - y))]\n",
    "    W_dist = np.linalg.norm(W_new - W , ord=2)\n",
    "    err = calc_mse(y, y_pred)\n",
    "    iter_num += 1\n",
    "    W = W_new\n",
    "    if iter_num % 100 == 0:\n",
    "        eta /= 1.15\n",
    "        print(f'Iteration #{iter_num}: W_new = {W}, MSE = {round(err, 4)}')\n",
    "        \n",
    "print(f'Iteration #{iter_num}: W_new = {W}, MSE = {round(err, 4)}')"
   ]
  },
  {
   "cell_type": "code",
   "execution_count": null,
   "id": "74dabbd7",
   "metadata": {},
   "outputs": [],
   "source": []
  }
 ],
 "metadata": {
  "kernelspec": {
   "display_name": "Python 3",
   "language": "python",
   "name": "python3"
  },
  "language_info": {
   "codemirror_mode": {
    "name": "ipython",
    "version": 3
   },
   "file_extension": ".py",
   "mimetype": "text/x-python",
   "name": "python",
   "nbconvert_exporter": "python",
   "pygments_lexer": "ipython3",
   "version": "3.8.8"
  }
 },
 "nbformat": 4,
 "nbformat_minor": 5
}
