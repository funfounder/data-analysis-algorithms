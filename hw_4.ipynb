{
 "cells": [
  {
   "cell_type": "markdown",
   "metadata": {},
   "source": [
    "Вариант, который я собрал изначально. Не подумал даже про global"
   ]
  },
  {
   "cell_type": "code",
   "execution_count": 18,
   "metadata": {},
   "outputs": [],
   "source": [
    "import numpy as np\n",
    "import matplotlib.pyplot as plt\n",
    "from sklearn.datasets import make_classification, make_regression\n",
    "from sklearn.model_selection import train_test_split\n",
    "from tqdm import tqdm\n",
    "import warnings\n",
    "warnings.filterwarnings('ignore')"
   ]
  },
  {
   "cell_type": "code",
   "execution_count": 55,
   "metadata": {
    "id": "f1__qSXSabXy"
   },
   "outputs": [
    {
     "ename": "SyntaxError",
     "evalue": "'continue' not properly in loop (<ipython-input-55-5bbe7249606a>, line 19)",
     "output_type": "error",
     "traceback": [
      "\u001b[1;36m  File \u001b[1;32m\"<ipython-input-55-5bbe7249606a>\"\u001b[1;36m, line \u001b[1;32m19\u001b[0m\n\u001b[1;33m    continue\u001b[0m\n\u001b[1;37m    ^\u001b[0m\n\u001b[1;31mSyntaxError\u001b[0m\u001b[1;31m:\u001b[0m 'continue' not properly in loop\n"
     ]
    }
   ],
   "source": [
    "import time\n",
    "# Построение дерева с помощью рекурсивной функции\n",
    "\n",
    "def build_tree(data, labels, leaf_m = 3, leaf_n = 0):\n",
    "\n",
    "    gain, t, index = find_best_split(data, labels)\n",
    "    \n",
    "    leaf_i = leaf_n\n",
    "\n",
    "    #  Базовый случай - прекращаем рекурсию, когда нет прироста в качества\n",
    "    if gain == 0:\n",
    "        return Leaf(data, labels)\n",
    "\n",
    "    true_data, false_data, true_labels, false_labels = split(data, labels, index, t)\n",
    "    \n",
    "    leaf_i += 1\n",
    "    \n",
    "    if leaf_i <= leaf_m:\n",
    "        continue\n",
    "        \n",
    "    # Рекурсивно строим два поддерева\n",
    "    true_branch = build_tree(true_data, true_labels, leaf_m, leaf_i)\n",
    "\n",
    "#     print(time.time(), true_branch)\n",
    "    false_branch = build_tree(false_data, false_labels, leaf_m, leaf_i)\n",
    "    \n",
    "#     print(time.time(), false_branch)\n",
    "    \n",
    "    # Возвращаем класс узла со всеми поддеревьями, то есть целого дерева\n",
    "    return Node(index, t, true_branch, false_branch, leaf_m, leaf_i)"
   ]
  },
  {
   "cell_type": "markdown",
   "metadata": {},
   "source": [
    "Скопировал базовую часть"
   ]
  },
  {
   "cell_type": "code",
   "execution_count": 1,
   "metadata": {},
   "outputs": [],
   "source": [
    "# Класс узла\n",
    "\n",
    "class Node:\n",
    "    \n",
    "    def __init__(self, index, t, true_branch, false_branch):\n",
    "        self.index = index  # индекс признака, по которому ведется сравнение с порогом в этом узле\n",
    "        self.t = t  # значение порога\n",
    "        self.true_branch = true_branch  # поддерево, удовлетворяющее условию в узле\n",
    "        self.false_branch = false_branch  # поддерево, не удовлетворяющее условию в узле"
   ]
  },
  {
   "cell_type": "code",
   "execution_count": 3,
   "metadata": {},
   "outputs": [],
   "source": [
    "# Класс листа\n",
    "\n",
    "class Leaf:\n",
    "    \n",
    "    def __init__(self, data, labels):\n",
    "        self.data = data\n",
    "        self.labels = labels\n",
    "        self.prediction = self.predict()\n",
    "        \n",
    "    def predict(self):\n",
    "        # подсчет количества объектов разных классов\n",
    "        classes = {}  # сформируем словарь \"класс: количество объектов\"\n",
    "        for label in self.labels:\n",
    "            if label not in classes:\n",
    "                classes[label] = 0\n",
    "            classes[label] += 1\n",
    "        #  найдем класс, количество объектов которого будет максимальным в этом листе и вернем его    \n",
    "        prediction = max(classes, key=classes.get)\n",
    "        return prediction        "
   ]
  },
  {
   "cell_type": "code",
   "execution_count": 4,
   "metadata": {},
   "outputs": [],
   "source": [
    "# Расчет критерия Джини\n",
    "\n",
    "def gini(labels):\n",
    "    #  подсчет количества объектов разных классов\n",
    "    classes = {}\n",
    "    for label in labels:\n",
    "        if label not in classes:\n",
    "            classes[label] = 0\n",
    "        classes[label] += 1\n",
    "    \n",
    "    #  расчет критерия\n",
    "    impurity = 1\n",
    "    for label in classes:\n",
    "        p = classes[label] / len(labels)\n",
    "        impurity -= p ** 2\n",
    "        \n",
    "    return impurity"
   ]
  },
  {
   "cell_type": "code",
   "execution_count": 86,
   "metadata": {},
   "outputs": [],
   "source": [
    "# Расчет прироста\n",
    "\n",
    "def gain(left_labels, right_labels, root_gini):\n",
    "\n",
    "    # доля выборки, ушедшая в левое поддерево\n",
    "    p = float(left_labels.shape[0]) / (left_labels.shape[0] + right_labels.shape[0])\n",
    "    \n",
    "    return root_gini - p * gini(left_labels) - (1 - p) * gini(right_labels)"
   ]
  },
  {
   "cell_type": "code",
   "execution_count": 5,
   "metadata": {},
   "outputs": [],
   "source": [
    "# Расчет качества\n",
    "\n",
    "def quality(left_labels, right_labels, current_gini):\n",
    "\n",
    "    # доля выбоки, ушедшая в левое поддерево\n",
    "    p = float(left_labels.shape[0]) / (left_labels.shape[0] + right_labels.shape[0])\n",
    "    \n",
    "    return current_gini - p * gini(left_labels) - (1 - p) * gini(right_labels)"
   ]
  },
  {
   "cell_type": "code",
   "execution_count": 6,
   "metadata": {},
   "outputs": [],
   "source": [
    "# Разбиение датасета в узле\n",
    "\n",
    "def split(data, labels, index, t):\n",
    "    \n",
    "    left = np.where(data[:, index] <= t)\n",
    "    right = np.where(data[:, index] > t)\n",
    "        \n",
    "    true_data = data[left]\n",
    "    false_data = data[right]\n",
    "    true_labels = labels[left]\n",
    "    false_labels = labels[right]\n",
    "        \n",
    "    return true_data, false_data, true_labels, false_labels"
   ]
  },
  {
   "cell_type": "code",
   "execution_count": 7,
   "metadata": {},
   "outputs": [],
   "source": [
    "# Нахождение наилучшего разбиения\n",
    "\n",
    "def find_best_split(data, labels):\n",
    "    \n",
    "    #  обозначим минимальное количество объектов в узле\n",
    "    min_leaf = 5\n",
    "    \n",
    "    current_gini = gini(labels)\n",
    "\n",
    "    best_quality = 0\n",
    "    best_t = None\n",
    "    best_index = None\n",
    "    \n",
    "    n_features = data.shape[1]\n",
    "    \n",
    "    for index in range(n_features):\n",
    "        # будем проверять только уникальные значения признака, исключая повторения\n",
    "        t_values = np.unique([row[index] for row in data])\n",
    "        \n",
    "        for t in t_values:\n",
    "            true_data, false_data, true_labels, false_labels = split(data, labels, index, t)\n",
    "            #  пропускаем разбиения, в которых в узле остается менее 5 объектов\n",
    "            if len(true_data) < min_leaf or len(false_data) < min_leaf:\n",
    "                continue\n",
    "            \n",
    "            current_quality = quality(true_labels, false_labels, current_gini)\n",
    "            \n",
    "            #  выбираем порог, на котором получается максимальный прирост качества\n",
    "            if current_quality > best_quality:\n",
    "                best_quality, best_t, best_index = current_quality, t, index\n",
    "\n",
    "    return best_quality, best_t, best_index"
   ]
  },
  {
   "cell_type": "code",
   "execution_count": 8,
   "metadata": {},
   "outputs": [],
   "source": [
    "# Построение дерева с помощью рекурсивной функции, базовый случай\n",
    "\n",
    "def build_tree(data, labels):\n",
    "\n",
    "    quality, t, index = find_best_split(data, labels)\n",
    "\n",
    "    #  Базовый случай - прекращаем рекурсию, когда нет прироста в качества\n",
    "    if quality == 0:\n",
    "        return Leaf(data, labels)\n",
    "\n",
    "    true_data, false_data, true_labels, false_labels = split(data, labels, index, t)\n",
    "\n",
    "    # Рекурсивно строим два поддерева\n",
    "    true_branch = build_tree(true_data, true_labels)\n",
    "    false_branch = build_tree(false_data, false_labels)\n",
    "\n",
    "    # Возвращаем класс узла со всеми поддеревьями, то есть целого дерева\n",
    "    return Node(index, t, true_branch, false_branch)"
   ]
  },
  {
   "cell_type": "code",
   "execution_count": 9,
   "metadata": {},
   "outputs": [],
   "source": [
    "def classify_object(obj, node):\n",
    "\n",
    "    #  Останавливаем рекурсию, если достигли листа\n",
    "    if isinstance(node, Leaf):\n",
    "        answer = node.prediction\n",
    "        return answer\n",
    "\n",
    "    if obj[node.index] <= node.t:\n",
    "        return classify_object(obj, node.true_branch)\n",
    "    else:\n",
    "        return classify_object(obj, node.false_branch)"
   ]
  },
  {
   "cell_type": "code",
   "execution_count": 10,
   "metadata": {},
   "outputs": [],
   "source": [
    "def predict(data, tree):\n",
    "    \n",
    "    classes = []\n",
    "    for obj in data:\n",
    "        prediction = classify_object(obj, tree)\n",
    "        classes.append(prediction)\n",
    "    return classes"
   ]
  },
  {
   "cell_type": "code",
   "execution_count": 14,
   "metadata": {},
   "outputs": [],
   "source": [
    "# Напечатаем ход нашего дерева\n",
    "def print_tree(node, spacing=\"\"):\n",
    "\n",
    "    # Если лист, то выводим его прогноз\n",
    "    if isinstance(node, Leaf):\n",
    "        print(spacing + \"Прогноз:\", node.prediction)\n",
    "        return\n",
    "\n",
    "    # Выведем значение индекса и порога на этом узле\n",
    "    print(spacing + 'Индекс', str(node.index))\n",
    "    print(spacing + 'Порог', str(node.t))\n",
    "\n",
    "    # Рекурсионный вызов функции на положительном поддереве\n",
    "    print (spacing + '--> True:')\n",
    "    print_tree(node.true_branch, spacing + \"  \")\n",
    "\n",
    "    # Рекурсионный вызов функции на положительном поддереве\n",
    "    print (spacing + '--> False:')\n",
    "    print_tree(node.false_branch, spacing + \"  \")"
   ]
  },
  {
   "cell_type": "code",
   "execution_count": 33,
   "metadata": {},
   "outputs": [],
   "source": [
    "# Введем функцию подсчета точности как доли правильных ответов\n",
    "def accuracy_metric(actual, predicted):\n",
    "    correct = 0\n",
    "    for i in range(len(actual)):\n",
    "        if actual[i] == predicted[i]:\n",
    "            correct += 1\n",
    "    return correct / float(len(actual)) * 100.0\n",
    "\n",
    "def check_accuracy(my_tree):\n",
    "    train_answers = predict(train_data, my_tree)\n",
    "\n",
    "    train_accuracy = accuracy_metric(train_labels, train_answers)\n",
    "    print(f'Доля правильных ответов на обучающей выборке: {train_accuracy:.2f}')\n",
    "\n",
    "    answers = predict(test_data, my_tree)\n",
    "\n",
    "    test_accuracy = accuracy_metric(test_labels, answers)\n",
    "    print(f'Доля правильных ответов на обучающей выборке: {test_accuracy:.2f}')"
   ]
  },
  {
   "cell_type": "code",
   "execution_count": 19,
   "metadata": {},
   "outputs": [],
   "source": [
    "# сгенерируем данные\n",
    "classification_data, classification_labels = make_classification(n_samples=1000, n_features=2, n_informative=2, \n",
    "                                                                 n_classes=2, n_redundant=0,\n",
    "                                                                 n_clusters_per_class=1, random_state=5)"
   ]
  },
  {
   "cell_type": "code",
   "execution_count": 21,
   "metadata": {},
   "outputs": [],
   "source": [
    "# Разобьем выборку на обучающую и тестовую\n",
    "\n",
    "from sklearn.model_selection import train_test_split\n",
    "\n",
    "train_data, test_data, train_labels, test_labels = train_test_split(classification_data, \n",
    "                                                                    classification_labels, \n",
    "                                                                    test_size=0.3,\n",
    "                                                                    random_state=1)"
   ]
  },
  {
   "cell_type": "code",
   "execution_count": 22,
   "metadata": {
    "scrolled": true
   },
   "outputs": [
    {
     "name": "stdout",
     "output_type": "stream",
     "text": [
      "Индекс 0\n",
      "Порог -0.001967524769128759\n",
      "--> True:\n",
      "  Индекс 1\n",
      "  Порог -1.3993975578815423\n",
      "  --> True:\n",
      "    Индекс 1\n",
      "    Порог -1.6646404646216442\n",
      "    --> True:\n",
      "      Индекс 0\n",
      "      Порог -0.8728986138474495\n",
      "      --> True:\n",
      "        Прогноз: 0\n",
      "      --> False:\n",
      "        Прогноз: 0\n",
      "    --> False:\n",
      "      Индекс 0\n",
      "      Порог -0.6882680999463433\n",
      "      --> True:\n",
      "        Прогноз: 0\n",
      "      --> False:\n",
      "        Индекс 0\n",
      "        Порог -0.40118216125291906\n",
      "        --> True:\n",
      "          Индекс 1\n",
      "          Порог -1.568473711740985\n",
      "          --> True:\n",
      "            Индекс 0\n",
      "            Порог -0.5543283463967665\n",
      "            --> True:\n",
      "              Прогноз: 1\n",
      "            --> False:\n",
      "              Прогноз: 1\n",
      "          --> False:\n",
      "            Прогноз: 0\n",
      "        --> False:\n",
      "          Индекс 1\n",
      "          Порог -1.5264301097909836\n",
      "          --> True:\n",
      "            Прогноз: 1\n",
      "          --> False:\n",
      "            Индекс 1\n",
      "            Порог -1.4255078037225668\n",
      "            --> True:\n",
      "              Прогноз: 1\n",
      "            --> False:\n",
      "              Прогноз: 1\n",
      "  --> False:\n",
      "    Прогноз: 0\n",
      "--> False:\n",
      "  Индекс 1\n",
      "  Порог -1.4518330557811816\n",
      "  --> True:\n",
      "    Прогноз: 0\n",
      "  --> False:\n",
      "    Индекс 0\n",
      "    Порог 0.08948763365897316\n",
      "    --> True:\n",
      "      Индекс 0\n",
      "      Порог 0.04459943514365716\n",
      "      --> True:\n",
      "        Прогноз: 1\n",
      "      --> False:\n",
      "        Прогноз: 1\n",
      "    --> False:\n",
      "      Индекс 0\n",
      "      Порог 1.2003150546431454\n",
      "      --> True:\n",
      "        Индекс 0\n",
      "        Порог 1.1480251121818283\n",
      "        --> True:\n",
      "          Индекс 1\n",
      "          Порог -1.0609167140093252\n",
      "          --> True:\n",
      "            Прогноз: 1\n",
      "          --> False:\n",
      "            Индекс 0\n",
      "            Порог 0.8595014481629895\n",
      "            --> True:\n",
      "              Прогноз: 1\n",
      "            --> False:\n",
      "              Прогноз: 1\n",
      "        --> False:\n",
      "          Прогноз: 1\n",
      "      --> False:\n",
      "        Прогноз: 1\n"
     ]
    }
   ],
   "source": [
    "my_tree = build_tree(train_data, train_labels)\n",
    "print_tree(my_tree)"
   ]
  },
  {
   "cell_type": "code",
   "execution_count": 34,
   "metadata": {},
   "outputs": [
    {
     "name": "stdout",
     "output_type": "stream",
     "text": [
      "Доля правильных ответов на обучающей выборке: 98.14\n",
      "Доля правильных ответов на обучающей выборке: 95.00\n"
     ]
    }
   ],
   "source": [
    "check_accuracy(my_tree)"
   ]
  },
  {
   "cell_type": "code",
   "execution_count": 58,
   "metadata": {},
   "outputs": [],
   "source": [
    "def build_tree_1(data, labels):\n",
    "    \n",
    "    global max_leaves, n_questions, num_leaves\n",
    "    \n",
    "    gain, t, index = find_best_split(data, labels)\n",
    "\n",
    "    #  Базовый случай - прекращаем рекурсию, когда нет прироста в качества\n",
    "    # или когда количество листьев стало больше максимального\n",
    "    # print(num_leaves, n_questions)\n",
    "    if gain == 0 or num_leaves >= max_leaves - 1 or n_questions >= max_leaves - 1:\n",
    "        num_leaves += 1\n",
    "        return Leaf(data, labels)\n",
    "\n",
    "    n_questions += 1\n",
    "    \n",
    "    true_data, false_data, true_labels, false_labels = split(data, labels, index, t)\n",
    "\n",
    "    # Рекурсивно строим два поддерева\n",
    "    true_branch = build_tree(true_data, true_labels)\n",
    "    false_branch = build_tree(false_data, false_labels)\n",
    "\n",
    "    # Возвращаем класс узла со всеми поддеревьями, то есть целого дерева\n",
    "    return Node(index, t, true_branch, false_branch)"
   ]
  },
  {
   "cell_type": "code",
   "execution_count": 59,
   "metadata": {},
   "outputs": [
    {
     "name": "stdout",
     "output_type": "stream",
     "text": [
      "Индекс 0\n",
      "Порог -0.001967524769128759\n",
      "--> True:\n",
      "  Индекс 1\n",
      "  Порог -1.3993975578815423\n",
      "  --> True:\n",
      "    Индекс 1\n",
      "    Порог -1.6646404646216442\n",
      "    --> True:\n",
      "      Прогноз: 0\n",
      "    --> False:\n",
      "      Прогноз: 1\n",
      "  --> False:\n",
      "    Прогноз: 0\n",
      "--> False:\n",
      "  Прогноз: 1\n"
     ]
    }
   ],
   "source": [
    "num_leaves = 0\n",
    "n_questions = 0\n",
    "max_leaves = 4\n",
    "\n",
    "my_tree = build_tree_1(train_data, train_labels)\n",
    "print_tree(my_tree)"
   ]
  },
  {
   "cell_type": "code",
   "execution_count": 57,
   "metadata": {},
   "outputs": [
    {
     "name": "stdout",
     "output_type": "stream",
     "text": [
      "Доля правильных ответов на обучающей выборке: 89.86\n",
      "Доля правильных ответов на обучающей выборке: 86.00\n"
     ]
    }
   ],
   "source": [
    "check_accuracy(my_tree)"
   ]
  },
  {
   "cell_type": "code",
   "execution_count": 71,
   "metadata": {},
   "outputs": [],
   "source": [
    "# Построение дерева с помощью рекурсивной функции\n",
    "def build_tree_2(data, labels, max_depth):\n",
    "    \n",
    "    gain, t, index = find_best_split(data, labels)\n",
    "\n",
    "    #  Базовый случай - прекращаем рекурсию, когда нет прироста в качества\n",
    "    #  или когда достигли максимальной глубины дерева\n",
    "    if gain == 0 or max_depth == 0:\n",
    "        return Leaf(data, labels)\n",
    "    \n",
    "    true_data, false_data, true_labels, false_labels = split(data, labels, index, t)\n",
    "    \n",
    "    # Рекурсивно строим два поддерева\n",
    "    true_branch = build_tree(true_data, true_labels, max_depth - 1)\n",
    "    false_branch = build_tree(false_data, false_labels, max_depth - 1)\n",
    "\n",
    "    # Возвращаем класс узла со всеми поддеревьями, то есть целого дерева\n",
    "    return Node(index, t, true_branch, false_branch)"
   ]
  },
  {
   "cell_type": "code",
   "execution_count": 74,
   "metadata": {
    "scrolled": true
   },
   "outputs": [
    {
     "name": "stdout",
     "output_type": "stream",
     "text": [
      "Индекс 0\n",
      "Порог -0.001967524769128759\n",
      "--> True:\n",
      "  Индекс 1\n",
      "  Порог -1.3993975578815423\n",
      "  --> True:\n",
      "    Индекс 1\n",
      "    Порог -1.6646404646216442\n",
      "    --> True:\n",
      "      Прогноз: 0\n",
      "    --> False:\n",
      "      Прогноз: 1\n",
      "  --> False:\n",
      "    Прогноз: 0\n",
      "--> False:\n",
      "  Индекс 1\n",
      "  Порог -1.4518330557811816\n",
      "  --> True:\n",
      "    Прогноз: 0\n",
      "  --> False:\n",
      "    Индекс 0\n",
      "    Порог 0.08948763365897316\n",
      "    --> True:\n",
      "      Прогноз: 1\n",
      "    --> False:\n",
      "      Прогноз: 1\n"
     ]
    }
   ],
   "source": [
    "my_tree = build_tree_2(train_data, train_labels, max_depth=3)\n",
    "print_tree(my_tree)"
   ]
  },
  {
   "cell_type": "markdown",
   "metadata": {},
   "source": [
    "**2. *Реализуйте дерево для задачи регрессии. Возьмите за основу дерево, реализованное в методичке, заменив механизм предсказания в листе на взятие среднего значения по выборке, и критерий Джини на дисперсию значений.**"
   ]
  },
  {
   "cell_type": "code",
   "execution_count": 81,
   "metadata": {},
   "outputs": [],
   "source": [
    "data, targets = make_regression(n_features=2, n_informative=2, random_state=5)\n",
    "from sklearn.model_selection import train_test_split\n",
    "train_data_regr, test_data_regr, train_target_regr, test_target_regr = train_test_split(data, \n",
    "                                                                                        targets, \n",
    "                                                                                        test_size=0.3,\n",
    "                                                                                        random_state=1)"
   ]
  },
  {
   "cell_type": "code",
   "execution_count": 82,
   "metadata": {},
   "outputs": [],
   "source": [
    "class Leaf:\n",
    "    \n",
    "    def __init__(self, data, targets):\n",
    "        self.data = data\n",
    "        self.targets = targets\n",
    "        self.prediction = self.predict()\n",
    "        \n",
    "    def predict(self):\n",
    "        return self.targets.mean()"
   ]
  },
  {
   "cell_type": "code",
   "execution_count": 77,
   "metadata": {},
   "outputs": [],
   "source": [
    "def mse(targets):\n",
    "    return np.mean((targets - targets.mean())**2)"
   ]
  },
  {
   "cell_type": "code",
   "execution_count": 83,
   "metadata": {},
   "outputs": [],
   "source": [
    "def find_best_split(data, targets):\n",
    "    \n",
    "    #  обозначим минимальное количество объектов в узле\n",
    "    min_samples_leaf = 5\n",
    "\n",
    "    root_mse = mse(targets)\n",
    "\n",
    "    best_gain = 0\n",
    "    best_t = None\n",
    "    best_index = None\n",
    "    \n",
    "    n_features = data.shape[1]\n",
    "    \n",
    "    for index in range(n_features):\n",
    "        # будем проверять только уникальные значения признака, исключая повторения\n",
    "        t_values = np.unique(data[:, index])\n",
    "        \n",
    "        for t in t_values:\n",
    "            true_data, false_data, true_targets, false_targets = split(data, targets, index, t)\n",
    "            #  пропускаем разбиения, в которых в узле остается менее 5 объектов\n",
    "            if len(true_data) < min_samples_leaf or len(false_data) < min_samples_leaf:\n",
    "                continue\n",
    "            \n",
    "            current_gain = gain(true_targets, false_targets, root_mse)\n",
    "            \n",
    "            #  выбираем порог, на котором получается максимальный прирост качества\n",
    "            if current_gain > best_gain:\n",
    "                best_gain, best_t, best_index = current_gain, t, index\n",
    "\n",
    "    return best_gain, best_t, best_index"
   ]
  },
  {
   "cell_type": "code",
   "execution_count": 84,
   "metadata": {},
   "outputs": [],
   "source": [
    "def build_tree(data, target):\n",
    "\n",
    "    gain, t, index = find_best_split(data, target)\n",
    "\n",
    "    #  Базовый случай - прекращаем рекурсию, когда нет прироста в качества\n",
    "    if gain == 0:\n",
    "        return Leaf(data, target)\n",
    "\n",
    "    true_data, false_data, true_target, false_target = split(data, target, index, t)\n",
    "\n",
    "    # Рекурсивно строим два поддерева\n",
    "    true_branch = build_tree(true_data, true_target)\n",
    "\n",
    "    false_branch = build_tree(false_data, false_target)\n",
    "\n",
    "    node = Node(index, t, true_branch, false_branch)\n",
    "\n",
    "    # Возвращаем класс узла со всеми поддеревьями, то есть целого дерева\n",
    "    return node"
   ]
  },
  {
   "cell_type": "code",
   "execution_count": 87,
   "metadata": {
    "scrolled": true
   },
   "outputs": [
    {
     "name": "stdout",
     "output_type": "stream",
     "text": [
      "Индекс 0\n",
      "Порог -1.167278449710173\n",
      "--> True:\n",
      "  Прогноз: -121.39064849773837\n",
      "--> False:\n",
      "  Индекс 0\n",
      "  Порог -0.8126247611063044\n",
      "  --> True:\n",
      "    Прогноз: -58.83807643952095\n",
      "  --> False:\n",
      "    Индекс 0\n",
      "    Порог -0.5017555471945\n",
      "    --> True:\n",
      "      Прогноз: -50.68338930141631\n",
      "    --> False:\n",
      "      Индекс 0\n",
      "      Порог -0.28143012121166766\n",
      "      --> True:\n",
      "        Прогноз: -19.53457742091028\n",
      "      --> False:\n",
      "        Индекс 0\n",
      "        Порог 0.10134479014204936\n",
      "        --> True:\n",
      "          Индекс 0\n",
      "          Порог -0.10593044205742323\n",
      "          --> True:\n",
      "            Прогноз: -19.179384142931184\n",
      "          --> False:\n",
      "            Прогноз: 11.007437547567205\n",
      "        --> False:\n",
      "          Индекс 0\n",
      "          Порог 0.30364846530823975\n",
      "          --> True:\n",
      "            Прогноз: 17.82546436535075\n",
      "          --> False:\n",
      "            Индекс 0\n",
      "            Порог 0.6178447508392777\n",
      "            --> True:\n",
      "              Индекс 0\n",
      "              Порог 0.44295626086393586\n",
      "              --> True:\n",
      "                Прогноз: 32.35717501918585\n",
      "              --> False:\n",
      "                Прогноз: 44.73161236384692\n",
      "            --> False:\n",
      "              Индекс 0\n",
      "              Порог 0.7769075911230111\n",
      "              --> True:\n",
      "                Прогноз: 49.38316175366546\n",
      "              --> False:\n",
      "                Индекс 0\n",
      "                Порог 1.1522047703756748\n",
      "                --> True:\n",
      "                  Прогноз: 44.50582349952781\n",
      "                --> False:\n",
      "                  Прогноз: 113.00294879297327\n"
     ]
    }
   ],
   "source": [
    "my_tree = build_tree(train_data_regr, train_target_regr)\n",
    "print_tree(my_tree)"
   ]
  },
  {
   "cell_type": "code",
   "execution_count": 88,
   "metadata": {},
   "outputs": [
    {
     "name": "stdout",
     "output_type": "stream",
     "text": [
      "0.8994102006971118\n",
      "0.8047526472601623\n"
     ]
    }
   ],
   "source": [
    "from sklearn.metrics import r2_score\n",
    "\n",
    "train_answers = predict(train_data_regr, my_tree)\n",
    "train_r2 = r2_score(train_target_regr, train_answers)\n",
    "print(train_r2)\n",
    "\n",
    "answers = predict(test_data_regr, my_tree)\n",
    "test_r2 = r2_score(test_target_regr, answers)\n",
    "print(test_r2)"
   ]
  }
 ],
 "metadata": {
  "colab": {
   "collapsed_sections": [],
   "name": "Lesson_4.ipynb",
   "provenance": []
  },
  "kernelspec": {
   "display_name": "Python 3",
   "language": "python",
   "name": "python3"
  },
  "language_info": {
   "codemirror_mode": {
    "name": "ipython",
    "version": 3
   },
   "file_extension": ".py",
   "mimetype": "text/x-python",
   "name": "python",
   "nbconvert_exporter": "python",
   "pygments_lexer": "ipython3",
   "version": "3.8.8"
  }
 },
 "nbformat": 4,
 "nbformat_minor": 1
}
