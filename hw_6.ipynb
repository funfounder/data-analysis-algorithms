{
 "cells": [
  {
   "cell_type": "code",
   "execution_count": 9,
   "id": "5ebabdaa",
   "metadata": {},
   "outputs": [],
   "source": [
    "import numpy as np\n",
    "import matplotlib.pyplot as plt\n",
    "from sklearn.datasets import make_classification, make_regression\n",
    "from sklearn.model_selection import train_test_split\n",
    "from matplotlib.colors import ListedColormap\n",
    "from tqdm import tqdm\n",
    "from sklearn.datasets import load_diabetes\n",
    "from sklearn import model_selection\n",
    "from sklearn.tree import DecisionTreeRegressor\n",
    "from sklearn.metrics import r2_score"
   ]
  },
  {
   "cell_type": "code",
   "execution_count": 7,
   "id": "3b15e32a",
   "metadata": {},
   "outputs": [
    {
     "data": {
      "text/plain": [
       "((442, 10), (442,))"
      ]
     },
     "execution_count": 7,
     "metadata": {},
     "output_type": "execute_result"
    }
   ],
   "source": [
    "X, y = load_diabetes(return_X_y=True)\n",
    "X.shape, y.shape"
   ]
  },
  {
   "cell_type": "code",
   "execution_count": 10,
   "id": "a1837ab8",
   "metadata": {},
   "outputs": [],
   "source": [
    "X_train, X_test, y_train, y_test = model_selection.train_test_split(X, y, test_size=0.25)"
   ]
  },
  {
   "cell_type": "code",
   "execution_count": 11,
   "id": "8d39839e",
   "metadata": {},
   "outputs": [],
   "source": [
    "def gb_predict(X, trees_list, eta):\n",
    "    # Реализуемый алгоритм градиентного бустинга будет инициализироваться нулевыми значениями,\n",
    "    # поэтому все деревья из списка trees_list уже являются дополнительными и при предсказании\n",
    "    # прибавляются с шагом eta\n",
    "    \n",
    "#     predictions = np.zeros(X.shape[0])\n",
    "#     for i, x in enumerate(X):\n",
    "#         prediction = 0\n",
    "#         for alg in trees_list:\n",
    "#             prediction += eta * alg.predict([x])[0]\n",
    "#         predictions[i] = prediction\n",
    "        \n",
    "    predictions = np.array(\n",
    "        [sum([eta * alg.predict([x])[0] for alg in trees_list]) for x in X]\n",
    "    )\n",
    "\n",
    "    return predictions"
   ]
  },
  {
   "cell_type": "code",
   "execution_count": 12,
   "id": "cb1956b7",
   "metadata": {},
   "outputs": [],
   "source": [
    "def mean_squared_error(y_real, prediction):\n",
    "    return (sum((y_real - prediction)**2)) / len(y_real)"
   ]
  },
  {
   "cell_type": "code",
   "execution_count": 13,
   "id": "f6ec62f9",
   "metadata": {},
   "outputs": [],
   "source": [
    "def residual(y, z):\n",
    "    return - (z - y)"
   ]
  },
  {
   "cell_type": "code",
   "execution_count": 14,
   "id": "dfa26804",
   "metadata": {},
   "outputs": [],
   "source": [
    "def gb_fit(n_trees, max_depth, X_train, X_test, y_train, y_test, eta):\n",
    "    \n",
    "    # Деревья будем записывать в список\n",
    "    trees = []\n",
    "    \n",
    "    # Будем записывать ошибки на обучающей и тестовой выборке на каждой итерации в список\n",
    "    train_errors = []\n",
    "    test_errors = []\n",
    "    \n",
    "    for i in range(n_trees):\n",
    "        tree = DecisionTreeRegressor(max_depth=max_depth, random_state=42)\n",
    "\n",
    "        # первый алгоритм просто обучаем на выборке и добавляем в список\n",
    "        if len(trees) == 0:\n",
    "            # обучаем первое дерево на обучающей выборке\n",
    "            tree.fit(X_train, y_train)\n",
    "            \n",
    "            train_errors.append(mean_squared_error(y_train, gb_predict(X_train, trees, eta)))\n",
    "            test_errors.append(mean_squared_error(y_test, gb_predict(X_test, trees, eta)))\n",
    "        else:\n",
    "            # Получим ответы на текущей композиции\n",
    "            target = gb_predict(X_train, trees, eta)\n",
    "            \n",
    "            # алгоритмы начиная со второго обучаем на сдвиг\n",
    "            tree.fit(X_train, residual(y_train, target))\n",
    "            \n",
    "            train_errors.append(mean_squared_error(y_train, gb_predict(X_train, trees, eta)))\n",
    "            test_errors.append(mean_squared_error(y_test, gb_predict(X_test, trees, eta)))\n",
    "\n",
    "        trees.append(tree)\n",
    "        \n",
    "    return trees, train_errors, test_errors"
   ]
  },
  {
   "cell_type": "code",
   "execution_count": 17,
   "id": "7c7d1214",
   "metadata": {},
   "outputs": [],
   "source": [
    "def evaluate_alg(X_train, X_test, y_train, y_test, trees, eta):\n",
    "    train_prediction = gb_predict(X_train, trees, eta)\n",
    "\n",
    "    print(f'Ошибка алгоритма из {n_trees} деревьев глубиной {max_depth} \\\n",
    "    с шагом {eta} на тренировочной выборке: {mean_squared_error(y_train, train_prediction)}')\n",
    "\n",
    "    test_prediction = gb_predict(X_test, trees, eta)\n",
    "\n",
    "    print(f'Ошибка алгоритма из {n_trees} деревьев глубиной {max_depth} \\\n",
    "    с шагом {eta} на тестовой выборке: {mean_squared_error(y_test, test_prediction)}')"
   ]
  },
  {
   "cell_type": "code",
   "execution_count": 20,
   "id": "868b4a5d",
   "metadata": {},
   "outputs": [],
   "source": [
    "def get_error_plot(n_trees, train_err, test_err):\n",
    "    plt.xlabel('Iteration number')\n",
    "    plt.ylabel('MSE')\n",
    "    plt.xlim(0, n_trees)\n",
    "    plt.plot(list(range(n_trees)), train_err, label='train error')\n",
    "    plt.plot(list(range(n_trees)), test_err, label='test error')\n",
    "    plt.legend(loc='upper right')\n",
    "    plt.show()"
   ]
  },
  {
   "cell_type": "code",
   "execution_count": 27,
   "id": "53127449",
   "metadata": {},
   "outputs": [],
   "source": [
    "# Число деревьев в ансамбле\n",
    "n_trees_list = [3, 5, 10]\n",
    "\n",
    "# Максимальная глубина деревьев\n",
    "max_depth_list = [1, 3, 5, 6, 7]\n",
    "\n",
    "# Шаг\n",
    "eta = 1"
   ]
  },
  {
   "cell_type": "code",
   "execution_count": 47,
   "id": "bcc7c0fd",
   "metadata": {},
   "outputs": [],
   "source": [
    "trees, train_errors, test_errors = gb_fit(3, 3, X_train, X_test, y_train, y_test, 0.1)"
   ]
  },
  {
   "cell_type": "code",
   "execution_count": 49,
   "id": "fa081f76",
   "metadata": {},
   "outputs": [
    {
     "data": {
      "text/plain": [
       "([28992.577039274925, 24025.751818348417, 19996.442044979067],\n",
       " [29318.72072072072, 24507.4887664864, 20666.90469497955])"
      ]
     },
     "execution_count": 49,
     "metadata": {},
     "output_type": "execute_result"
    }
   ],
   "source": [
    "train_errors, test_errors"
   ]
  },
  {
   "cell_type": "code",
   "execution_count": 43,
   "id": "49522adc",
   "metadata": {},
   "outputs": [],
   "source": [
    "# Число деревьев в ансамбле\n",
    "n_trees_list = [3, 5, 10, 50, 100]\n",
    "\n",
    "# Максимальная глубина деревьев\n",
    "max_depth_list = [1, 3, 5, 6, 7]\n",
    "\n",
    "# Шаг\n",
    "eta = 0.1\n",
    "\n",
    "results = []\n",
    "\n",
    "for i in n_trees_list:\n",
    "    for j in max_depth_list:\n",
    "        trees, train_errors, test_errors = gb_fit(i, j, X_train, X_test, y_train, y_test, eta)\n",
    "        results.append([i, j, trees, train_errors, test_errors])"
   ]
  },
  {
   "cell_type": "code",
   "execution_count": 73,
   "id": "e94b9eee",
   "metadata": {},
   "outputs": [],
   "source": [
    "trees_to_plot = []\n",
    "depth_to_plot = []\n",
    "train_error_to_plot = []\n",
    "test_error_to_plot = []\n",
    "\n",
    "for i in results:\n",
    "    tree_n = i[0]\n",
    "    trees_to_plot.append(tree_n)\n",
    "    depth_to_plot.append(i[1])\n",
    "    train_error_to_plot.append(i[3][tree_n - 1])\n",
    "    test_error_to_plot.append(i[4][tree_n - 1])"
   ]
  },
  {
   "cell_type": "code",
   "execution_count": 79,
   "id": "d302ac2a",
   "metadata": {},
   "outputs": [],
   "source": [
    "def get_error_plot(x_axis, train_err, test_err):\n",
    "    plt.xlabel('Number of trees')\n",
    "    plt.ylabel('MSE')\n",
    "    plt.xlim(0, max(x_axis) + 2)\n",
    "    plt.plot(x_axis, train_err, label='train error')\n",
    "    plt.plot(x_axis,test_err, label='test error')\n",
    "    plt.legend(loc='upper right')\n",
    "    plt.show()"
   ]
  },
  {
   "cell_type": "code",
   "execution_count": 80,
   "id": "91f0fafa",
   "metadata": {},
   "outputs": [
    {
     "data": {
      "image/png": "[encoded data removed]",
      "text/plain": [
       "<Figure size 432x288 with 1 Axes>"
      ]
     },
     "metadata": {
      "needs_background": "light"
     },
     "output_type": "display_data"
    }
   ],
   "source": [
    "get_error_plot(trees_to_plot, train_error_to_plot, test_error_to_plot)"
   ]
  },
  {
   "cell_type": "code",
   "execution_count": 85,
   "id": "d85d6ca4",
   "metadata": {},
   "outputs": [],
   "source": [
    "# Число деревьев в ансамбле\n",
    "n_trees_list = [3, 5, 10, 50, 100]\n",
    "\n",
    "# Максимальная глубина деревьев\n",
    "max_depth_list = [1, 3, 5, 6, 7]\n",
    "\n",
    "# Шаг\n",
    "eta = 0.1\n",
    "\n",
    "results = []\n",
    "\n",
    "for j in max_depth_list:\n",
    "    for i in n_trees_list:\n",
    "        trees, train_errors, test_errors = gb_fit(i, j, X_train, X_test, y_train, y_test, eta)\n",
    "        results.append([i, j, trees, train_errors, test_errors])"
   ]
  },
  {
   "cell_type": "code",
   "execution_count": 86,
   "id": "a572464e",
   "metadata": {},
   "outputs": [],
   "source": [
    "trees_to_plot = []\n",
    "depth_to_plot = []\n",
    "train_error_to_plot = []\n",
    "test_error_to_plot = []\n",
    "\n",
    "for i in results:\n",
    "    tree_n = i[0]\n",
    "    trees_to_plot.append(tree_n)\n",
    "    depth_to_plot.append(i[1])\n",
    "    train_error_to_plot.append(i[3][tree_n - 1])\n",
    "    test_error_to_plot.append(i[4][tree_n - 1])"
   ]
  },
  {
   "cell_type": "code",
   "execution_count": 87,
   "id": "ebaf9dc8",
   "metadata": {},
   "outputs": [],
   "source": [
    "def get_error_plot(x_axis, train_err, test_err):\n",
    "    plt.xlabel('Number of trees')\n",
    "    plt.ylabel('MSE')\n",
    "    plt.xlim(0, max(x_axis) + 2)\n",
    "    plt.plot(x_axis, train_err, label='train error')\n",
    "    plt.plot(x_axis,test_err, label='test error')\n",
    "    plt.legend(loc='upper right')\n",
    "    plt.show()"
   ]
  },
  {
   "cell_type": "code",
   "execution_count": 88,
   "id": "5f8f1449",
   "metadata": {},
   "outputs": [
    {
     "data": {
      "image/png": "[encoded data removed]",
      "text/plain": [
       "<Figure size 432x288 with 1 Axes>"
      ]
     },
     "metadata": {
      "needs_background": "light"
     },
     "output_type": "display_data"
    }
   ],
   "source": [
    "get_error_plot(depth_to_plot, train_error_to_plot, test_error_to_plot)"
   ]
  }
 ],
 "metadata": {
  "kernelspec": {
   "display_name": "Python 3",
   "language": "python",
   "name": "python3"
  },
  "language_info": {
   "codemirror_mode": {
    "name": "ipython",
    "version": 3
   },
   "file_extension": ".py",
   "mimetype": "text/x-python",
   "name": "python",
   "nbconvert_exporter": "python",
   "pygments_lexer": "ipython3",
   "version": "3.8.8"
  }
 },
 "nbformat": 4,
 "nbformat_minor": 5
}
