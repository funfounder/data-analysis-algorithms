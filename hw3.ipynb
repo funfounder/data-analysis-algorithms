{
 "cells": [
  {
   "cell_type": "code",
   "execution_count": 1,
   "id": "3243dac6",
   "metadata": {},
   "outputs": [],
   "source": [
    "import numpy as np\n",
    "import matplotlib.pyplot as plt\n",
    "import pandas as pd\n",
    "%matplotlib inline"
   ]
  },
  {
   "cell_type": "markdown",
   "id": "3b0b4729",
   "metadata": {},
   "source": [
    "1. *Измените функцию calc_logloss так, чтобы нули по возможности не попадали в np.log."
   ]
  },
  {
   "cell_type": "code",
   "execution_count": 2,
   "id": "af8e2077",
   "metadata": {},
   "outputs": [],
   "source": [
    "def calc_logloss(y, y_pred):\n",
    "    try: \n",
    "        err = - np.mean(y * np.log(y_pred) + (1.0 - y) * np.log(1.0 - y_pred))\n",
    "    except ValueError:\n",
    "        \n",
    "    return err"
   ]
  },
  {
   "cell_type": "markdown",
   "id": "41fd4a4a",
   "metadata": {},
   "source": [
    "2. Подберите аргументы функции eval_model для логистической регрессии таким образом, чтобы log loss был минимальным.\n"
   ]
  },
  {
   "cell_type": "code",
   "execution_count": 3,
   "id": "b7786432",
   "metadata": {},
   "outputs": [],
   "source": [
    "def sigmoid(z):\n",
    "    res = 1 / (1 + np.exp(-z))\n",
    "    return res"
   ]
  },
  {
   "cell_type": "code",
   "execution_count": 160,
   "id": "10133782",
   "metadata": {},
   "outputs": [],
   "source": [
    "def eval_model(X, y, iterations, eta=1e-4):\n",
    "    np.random.seed(42)\n",
    "    W = np.random.randn(X.shape[1])\n",
    "    n = X.shape[0]\n",
    "    \n",
    "    for i in range(iterations):\n",
    "        z = np.dot(X, W)\n",
    "        y_pred = sigmoid(z)\n",
    "        err = calc_logloss(y, y_pred)\n",
    "        \n",
    "        dQ = 1/n * X.T @ (y_pred - y)\n",
    "        W -= eta * dQ\n",
    "        if i % (iterations / 10) == 0:\n",
    "            #eta *= 1.1\n",
    "            #print(i, W, err, eta)\n",
    "            print(i, W, err)\n",
    "        elif i + 1 == iterations:\n",
    "            print(i, W, err, eta)\n",
    "    return W"
   ]
  },
  {
   "cell_type": "code",
   "execution_count": 6,
   "id": "46aa6c07",
   "metadata": {},
   "outputs": [],
   "source": [
    "def standard_scale(x):\n",
    "    res = (x - x.mean()) / x.std()\n",
    "    return res"
   ]
  },
  {
   "cell_type": "code",
   "execution_count": 5,
   "id": "f8449e6f",
   "metadata": {},
   "outputs": [],
   "source": [
    "X = np.array([ [   1,    1,  500,    1],\n",
    "               [   1,    1,  700,    1],\n",
    "               [   1,    2,  750,    2],\n",
    "               [   1,    5,  600,    1],\n",
    "               [   1,    3, 1450,    2],\n",
    "               [   1,    0,  800,    1],\n",
    "               [   1,    5, 1500,    3],\n",
    "               [   1,   10, 2000,    3],\n",
    "               [   1,    1,  450,    1],\n",
    "               [   1,    2, 1000,    2]], dtype=np.float64)\n",
    "\n",
    "y = np.array([0, 0, 1, 0, 1, 0, 1, 0, 1, 1], dtype=np.float64)"
   ]
  },
  {
   "cell_type": "code",
   "execution_count": 7,
   "id": "f48d875a",
   "metadata": {},
   "outputs": [],
   "source": [
    "X_st = X.copy()\n",
    "X_st[:, 2] = standard_scale(X[:, 2])"
   ]
  },
  {
   "cell_type": "code",
   "execution_count": 152,
   "id": "400cb51f",
   "metadata": {
    "scrolled": false
   },
   "outputs": [
    {
     "name": "stdout",
     "output_type": "stream",
     "text": [
      "0 [-0.72111774 -4.79557623  0.55979739 -0.29429967] 1.1785958344356262 3.21\n",
      "1000 [-24.64122519  -2.71018945  -6.4771752   20.41395284] 0.14482557957072034 3.21\n",
      "2000 [-30.92250528  -3.17291396  -8.27998896  25.49741542] 0.1218174650599809 3.21\n",
      "3000 [-35.62556183  -3.59546493  -9.60649947  29.29296965] 0.10977542501890966 3.21\n",
      "4000 [-39.47539264  -3.9363358  -10.69306357  32.38462208] 0.10175473835704729 3.21\n",
      "5000 [-42.79172009  -4.22444639 -11.63239508  35.03377036] 0.09583177523018097 3.21\n",
      "6000 [-45.74517941  -4.47544996 -12.47321889  37.38002285] 0.0911545459909963 3.21\n",
      "7000 [-48.43697047  -4.69874451 -13.24408687  39.50629322] 0.08728538695233008 3.21\n",
      "8000 [-50.93171095  -4.90042762 -13.96302017  41.46567582] 0.08397508979322418 3.21\n",
      "9000 [-53.27293533  -5.08471006 -14.64200158  43.29412899] 0.08107066581535485 3.21\n",
      "9999 [-55.48900478  -5.25449286 -15.28866447  45.01540007] 0.0784751623725171 3.21\n"
     ]
    }
   ],
   "source": [
    "W = eval_model(X_st, y, iterations=10000, eta=3.21)"
   ]
  },
  {
   "cell_type": "markdown",
   "id": "72f25fe1",
   "metadata": {},
   "source": [
    "Ответ: лучший результат я получил при eta = 3.21 и iterations=10000"
   ]
  },
  {
   "cell_type": "markdown",
   "id": "357ee3f5",
   "metadata": {},
   "source": [
    "3. Создайте функцию calc_pred_proba, возвращающую предсказанную вероятность класса 1 (на вход подаются W, который уже посчитан функцией eval_model и X, на выходе - массив y_pred_proba)."
   ]
  },
  {
   "cell_type": "code",
   "execution_count": 164,
   "id": "35ccaf0b",
   "metadata": {},
   "outputs": [],
   "source": [
    "def calc_pred_proba(w, X):\n",
    "\n",
    "    y_pred_proba = np.squeeze(sigmoid(np.dot(X, w)))\n",
    "\n",
    "    return y_pred_proba"
   ]
  },
  {
   "cell_type": "code",
   "execution_count": 156,
   "id": "e359e692",
   "metadata": {},
   "outputs": [
    {
     "data": {
      "text/plain": [
       "((10, 4), (4,))"
      ]
     },
     "execution_count": 156,
     "metadata": {},
     "output_type": "execute_result"
    }
   ],
   "source": [
    "X_st.shape, W.shape"
   ]
  },
  {
   "cell_type": "code",
   "execution_count": 165,
   "id": "22903ddd",
   "metadata": {
    "scrolled": false
   },
   "outputs": [
    {
     "data": {
      "text/plain": [
       "array([3.20499012e-01, 8.60252532e-04, 1.00000000e+00, 1.50082183e-11,\n",
       "       9.78155056e-01, 6.99247751e-03, 1.00000000e+00, 4.93871807e-03,\n",
       "       6.95298072e-01, 1.00000000e+00])"
      ]
     },
     "execution_count": 165,
     "metadata": {},
     "output_type": "execute_result"
    }
   ],
   "source": [
    "Prob = calc_pred_proba(W, X_st)\n",
    "Prob"
   ]
  },
  {
   "cell_type": "markdown",
   "id": "802c9e36",
   "metadata": {},
   "source": [
    "4. Создайте функцию calc_pred, возвращающую предсказанный класс (на вход подаются W, который уже посчитан функцией eval_model и X, на выходе - массив y_pred)."
   ]
  },
  {
   "cell_type": "code",
   "execution_count": 212,
   "id": "91e27b15",
   "metadata": {},
   "outputs": [],
   "source": [
    "def calc_pred(w, X):\n",
    "\n",
    "    y_pred = np.zeros(X.shape[0])\n",
    "    \n",
    "    A = calc_pred_proba(w, X)\n",
    "    \n",
    "    y_pred = (A > 0.5).astype(int)\n",
    "\n",
    "    return y_pred"
   ]
  },
  {
   "cell_type": "code",
   "execution_count": 215,
   "id": "48d56a3f",
   "metadata": {},
   "outputs": [
    {
     "data": {
      "text/plain": [
       "array([0, 0, 1, 0, 1, 0, 1, 0, 1, 1])"
      ]
     },
     "execution_count": 215,
     "metadata": {},
     "output_type": "execute_result"
    }
   ],
   "source": [
    "y_pred = calc_pred(W, X_st)\n",
    "y_pred"
   ]
  },
  {
   "cell_type": "markdown",
   "id": "907bea14",
   "metadata": {},
   "source": [
    "6. Могла ли модель переобучиться? Почему?"
   ]
  },
  {
   "cell_type": "markdown",
   "id": "02534abc",
   "metadata": {},
   "source": [
    "Думаю, что могла, как и любая модель. Потому что мы подгоняли веса так, чтобы минимизировать ошибку и не проверяли работу алгоритма."
   ]
  },
  {
   "cell_type": "markdown",
   "id": "ccf90042",
   "metadata": {},
   "source": [
    "5. *Реализуйте функции для подсчета Accuracy, матрицы ошибок, точности и полноты, а также F1 score."
   ]
  },
  {
   "cell_type": "code",
   "execution_count": 219,
   "id": "d1df9494",
   "metadata": {},
   "outputs": [],
   "source": [
    "def accuracy(y, y_pred):\n",
    "\n",
    "    TP = ((y == 1) & (y_pred == 1)).sum()\n",
    "    FP = ((y == 0) & (y_pred == 1)).sum()\n",
    "    FN = ((y == 1) & (y_pred == 0)).sum()\n",
    "    TN = ((y == 0) & (y_pred == 0)).sum()\n",
    "    \n",
    "    conf_matrix =  np.array([[TP, FP], [FN, TN]])\n",
    "    \n",
    "    accuracy = (TP + TN) / (TP + FP + FN + TN)\n",
    "    precision = TP / (TP + FP)\n",
    "    recall = TP / (TP + FN)\n",
    "    \n",
    "    return conf_matrix, np.array([accuracy, precision, recall])"
   ]
  },
  {
   "cell_type": "code",
   "execution_count": 221,
   "id": "28c1a9a9",
   "metadata": {},
   "outputs": [
    {
     "data": {
      "text/plain": [
       "(array([[5, 0],\n",
       "        [0, 5]]),\n",
       " array([1., 1., 1.]))"
      ]
     },
     "execution_count": 221,
     "metadata": {},
     "output_type": "execute_result"
    }
   ],
   "source": [
    "accuracy(y,y_pred)"
   ]
  },
  {
   "cell_type": "code",
   "execution_count": 225,
   "id": "586c10e4",
   "metadata": {},
   "outputs": [],
   "source": [
    "def Fb(y, y_pred, b=1):\n",
    "    \n",
    "    conf_matrix, metrics = accuracy(y, y_pred)\n",
    "    \n",
    "    Fb = ((1 + b**2) * metrics[1] * metrics[2])/(b**2 * (metrics[1] + metrics[2]))\n",
    "    \n",
    "    return Fb"
   ]
  },
  {
   "cell_type": "code",
   "execution_count": 226,
   "id": "3d94b70f",
   "metadata": {},
   "outputs": [
    {
     "data": {
      "text/plain": [
       "1.0"
      ]
     },
     "execution_count": 226,
     "metadata": {},
     "output_type": "execute_result"
    }
   ],
   "source": [
    "Fb(y,y_pred)"
   ]
  }
 ],
 "metadata": {
  "kernelspec": {
   "display_name": "Python 3",
   "language": "python",
   "name": "python3"
  },
  "language_info": {
   "codemirror_mode": {
    "name": "ipython",
    "version": 3
   },
   "file_extension": ".py",
   "mimetype": "text/x-python",
   "name": "python",
   "nbconvert_exporter": "python",
   "pygments_lexer": "ipython3",
   "version": "3.8.8"
  }
 },
 "nbformat": 4,
 "nbformat_minor": 5
}
